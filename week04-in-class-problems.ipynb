{
 "cells": [
  {
   "cell_type": "markdown",
   "metadata": {},
   "source": [
    "### MS 263 In-class problems: Feb. 27 2018\n",
    "\n",
    "#### 1. Uncertainty in surface ocean CO$_2$ calculations\n",
    "\n",
    "The equation for computing CO$_2$ concentrations from measurements of dissolved inorganic carbon (DIC) and pH is given by\n",
    "\n",
    "$$ [CO_2]=  \\frac{[DIC]}{\\left(1+ \\frac{K_1'}{H^+}+\\frac{K_1'K_2'}{[H^+]^2}\\right)} $$\n",
    "\n",
    "where the dissociation constants that govern the dissociation of CO$_2$ into carbonate and bicarbonate are known from laboratory measurements and are given on a logarithmic scale as $pK'_1 = -\\log{K'_1} = $ 5.847 and $pK'_1 = -\\log{K'_2} = $ 8.966.\n",
    "\n",
    "The fugacity (partial pressure, not accounting for non-ideal gas effects) of CO$_2$ can be calculated using\n",
    "\n",
    "$$ fCO_2 = \\frac{[CO_2]}{K_H}$$\n",
    "\n",
    "where $K_{H,CO_2}$ =  3.24x10$^{-2}$ mol/(kg atm) is Henry's Law constant.\n",
    "\n",
    "Measurements of DIC have an analytical uncertainty of +/-2 $\\mu$mol/kg. Measurements of pH have an analytical uncertainty of +/- 0.0020.\n",
    "\n",
    "Typical surface values are [DIC] $\\approx$ 2000 $\\mu$mol/kg and pH $\\approx$ 8.1. What is the uncertainty in $fCO_2$ calculated from these values?"
   ]
  },
  {
   "cell_type": "code",
   "execution_count": 1,
   "metadata": {},
   "outputs": [],
   "source": [
    "from uncertainties import ufloat\n"
   ]
  },
  {
   "cell_type": "markdown",
   "metadata": {},
   "source": [
    "#### 2. Harmonic analysis\n",
    "\n",
    "Fit an annual cycle to a two-year time series of monthly SST data (source: Emery and Thomson).\n",
    "\n",
    "* Write out the problem as a system of equations, and in matrix form.\n",
    "* Create a design matrix A - start with a matrix of NaNs, then fill in the columns.\n",
    "* Use `np.linalg.lstsq` to solve for the coefficients.\n",
    "* Plot the modeled fit on top of the data."
   ]
  },
  {
   "cell_type": "code",
   "execution_count": 78,
   "metadata": {
    "collapsed": false,
    "scrolled": false
   },
   "outputs": [
    {
     "data": {
      "text/plain": [
       "<matplotlib.text.Text at 0x11b29d128>"
      ]
     },
     "execution_count": 78,
     "metadata": {},
     "output_type": "execute_result"
    },
    {
     "data": {
      "image/png": "[encoded data removed]",
      "text/plain": [
       "<matplotlib.figure.Figure at 0x10c137b00>"
      ]
     },
     "metadata": {},
     "output_type": "display_data"
    }
   ],
   "source": [
    "t = np.arange(1,25)\n",
    "SST = np.array([7.6, 7.4, 8.2, 9.2, 10.2, 11.5, 12.4, 13.4, 13.7, 11.8, 10.1, 9.0,\n",
    "                8.9, 9.5, 10.6, 11.4, 12.9, 12.7, 13.9, 14.2, 13.5, 11.4, 10.9, 8.1])\n",
    "plt.plot(t,SST)\n",
    "plt.xlabel('month')\n",
    "plt.ylabel('SST')"
   ]
  },
  {
   "cell_type": "markdown",
   "metadata": {},
   "source": [
    "#### 3. Computing vertical gradients\n",
    "\n",
    "Using data from one station on the West Coast Ocean Acidification cruise, estimate the vertical gradient of nitrate $\\Delta N$/$\\Delta z$ at locations throughout the water column. Pressure can be used as the vertical coordinate, $z$.\n",
    "\n",
    "Use Python to make this calculation two different ways:\n",
    "\n",
    "1. Using a for loop.\n",
    "2. Not using a for loop.\n",
    "\n",
    "Make sure that both calculations work for different profiles that have a different number of samples."
   ]
  },
  {
   "cell_type": "code",
   "execution_count": 1,
   "metadata": {},
   "outputs": [
    {
     "data": {
      "text/plain": [
       "<matplotlib.text.Text at 0x117c89ba8>"
      ]
     },
     "execution_count": 1,
     "metadata": {},
     "output_type": "execute_result"
    }
   ],
   "source": [
    "import pandas as pd\n",
    "import matplotlib.pyplot as plt\n",
    "\n",
    "# you may need to change this, depending on where your data file is\n",
    "filename = '../week03_wcoa_cruise/WCOA2013_hy1.csv' \n",
    "df = pd.read_csv(filename,header=31,na_values=-999,\n",
    "                 parse_dates=[[8,9]])\n",
    "\n",
    "# Create a new data frame, using only cast number 12\n",
    "idx = (df['STNNBR'] == 12)\n",
    "cast = df.loc[idx]\n",
    "\n",
    "plt.plot(cast['NITRAT'],cast['CTDPRS'],'-o')\n",
    "plt.gca().invert_yaxis()\n",
    "plt.xlabel('Nitrate [$\\mu$M]')\n",
    "plt.ylabel('pressure [dbar]')"
   ]
  },
  {
   "cell_type": "markdown",
   "metadata": {},
   "source": [
    "#### 4. Plot loop\n",
    "\n",
    "Create a for loop that loops through the following variables, and plots all available data from the WCOA cruise as a function of pressure (use pressure as the vertical coordinate)."
   ]
  },
  {
   "cell_type": "code",
   "execution_count": 5,
   "metadata": {},
   "outputs": [],
   "source": [
    "variables_to_plot = ['CTDTMP','CTDSAL','NITRAT','NITRIT','PH_TOT','ALKALI']\n",
    "\n",
    "for var in variables_to_plot:\n",
    "    # insert code here"
   ]
  }
 ],
 "metadata": {
  "kernelspec": {
   "display_name": "Python [default]",
   "language": "python",
   "name": "python3"
  },
  "language_info": {
   "codemirror_mode": {
    "name": "ipython",
    "version": 3
   },
   "file_extension": ".py",
   "mimetype": "text/x-python",
   "name": "python",
   "nbconvert_exporter": "python",
   "pygments_lexer": "ipython3",
   "version": "3.5.2"
  }
 },
 "nbformat": 4,
 "nbformat_minor": 2
}
